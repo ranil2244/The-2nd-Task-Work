{
  "nbformat": 4,
  "nbformat_minor": 0,
  "metadata": {
    "colab": {
      "provenance": []
    },
    "kernelspec": {
      "name": "python3",
      "display_name": "Python 3"
    },
    "language_info": {
      "name": "python"
    }
  },
  "cells": [
    {
      "cell_type": "code",
      "execution_count": 1,
      "metadata": {
        "colab": {
          "base_uri": "https://localhost:8080/"
        },
        "id": "drS6b2NOlKC8",
        "outputId": "f7a44f10-b89a-451e-e075-4265b98da349"
      },
      "outputs": [
        {
          "output_type": "stream",
          "name": "stdout",
          "text": [
            "Welcome to the Simple Calculator!\n",
            "Choose an operation:\n",
            "1. Addition (+)\n",
            "2. Subtraction (-)\n",
            "3. Multiplication (*)\n",
            "4. Division (/)\n",
            "Enter the operation (1/2/3/4 or +, -, *, /): 4\n",
            "Enter the first number: 5\n",
            "Enter the second number: 7\n",
            "The result of 5.0 / 7.0 is: 0.7142857142857143\n"
          ]
        }
      ],
      "source": [
        "def calculator():\n",
        "    print(\"Welcome to the Simple Calculator!\")\n",
        "    print(\"Choose an operation:\")\n",
        "    print(\"1. Addition (+)\")\n",
        "    print(\"2. Subtraction (-)\")\n",
        "    print(\"3. Multiplication (*)\")\n",
        "    print(\"4. Division (/)\")\n",
        "\n",
        "    # Get the operation choice\n",
        "    choice = input(\"Enter the operation (1/2/3/4 or +, -, *, /): \")\n",
        "\n",
        "    # Validate operation choice\n",
        "    valid_operations = {\"1\": \"+\", \"2\": \"-\", \"3\": \"*\", \"4\": \"/\"}\n",
        "    operation = valid_operations.get(choice, choice)\n",
        "      # Map number choices to symbols if needed\n",
        "    if operation not in \"+-*/\":\n",
        "        print(\"Invalid operation choice. Please try again.\")\n",
        "        return\n",
        "\n",
        "    # Get the numbers from the user\n",
        "    try:\n",
        "        num1 = float(input(\"Enter the first number: \"))\n",
        "        num2 = float(input(\"Enter the second number: \"))\n",
        "    except ValueError:\n",
        "        print(\"Invalid input! Please enter numeric values.\")\n",
        "        return\n",
        "\n",
        "    # Perform the calculation\n",
        "    try:\n",
        "        if operation == \"+\":\n",
        "            result = num1 + num2\n",
        "        elif operation == \"-\":\n",
        "            result = num1 - num2\n",
        "        elif operation == \"*\":\n",
        "            result = num1 * num2\n",
        "        elif operation == \"/\":\n",
        "            result = num1 / num2\n",
        "        print(f\"The result of {num1} {operation} {num2} is: {result}\")\n",
        "    except ZeroDivisionError:\n",
        "        print(\"Error: Division by zero is not allowed.\")\n",
        "\n",
        "# Run the calculator\n",
        "if __name__ == \"__main__\":\n",
        "    calculator()\n",
        "\n"
      ]
    },
    {
      "cell_type": "code",
      "source": [],
      "metadata": {
        "id": "6ZfAY5UjmtIC"
      },
      "execution_count": null,
      "outputs": []
    }
  ]
}